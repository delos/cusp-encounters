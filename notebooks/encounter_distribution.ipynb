{
 "cells": [
  {
   "cell_type": "markdown",
   "id": "eed92084",
   "metadata": {},
   "source": [
    "# The distribution of Encounters\n",
    "\n",
    "This notebook shows how to infer shock-histories, by properly Poisson-sampling the corresponding distribution"
   ]
  },
  {
   "cell_type": "code",
   "execution_count": null,
   "id": "0e85e1b3",
   "metadata": {},
   "outputs": [],
   "source": [
    "%matplotlib inline\n",
    "import matplotlib.pyplot as plt\n",
    "import numpy as np\n",
    "\n",
    "import sys\n",
    "sys.path.append(\"../adiabatic-tides\")\n",
    "sys.path.append(\"..\")\n",
    "\n",
    "import adiabatic_tides as at\n",
    "import cusp_encounters.milkyway\n",
    "import cusp_encounters.encounters_math as em\n",
    "import scipy.constants as const\n",
    "\n",
    "cachedir = \"../caches\"\n",
    "\n",
    "G = 43.0071057317063e-10 # Mpc (km/s)^2 / Msol "
   ]
  },
  {
   "cell_type": "markdown",
   "id": "488aa3b7",
   "metadata": {},
   "source": [
    "# Spatial distribution of encounters (not relevant)\n",
    "\n",
    "This is a heuristic estimate of the spatial distribution of encounters. This is not relevant, but still interesting\n",
    "\n",
    "$$r_0 = \\frac{1}{n_*}$$\n",
    "\n",
    "is the mean distance to an object in the projected encounter plane, where $n_*$ is the number column density.\n",
    "\n",
    "E.g. if all stars had a mass of $1 M_\\odot$ then $n_* = \\Sigma_* / M_\\odot$ where $\\Sigma_*$ is the stellar mass column density."
   ]
  },
  {
   "cell_type": "code",
   "execution_count": null,
   "id": "04e906fd",
   "metadata": {},
   "outputs": [],
   "source": [
    "ri = np.logspace(-2,1, 500)\n",
    "plt.plot(ri, em.knn_distribution(ri, 1., k=1) * ri, label=\"closest\", lw=2)\n",
    "plt.plot(ri, em.knn_distribution(ri, 1., k=2) * ri, label=\"2nd-closest\", lw=2)\n",
    "plt.plot(ri, em.knn_distribution(ri, 1., k=3) * ri, label=\"3rd-closest\", lw=2)\n",
    "\n",
    "plt.grid()\n",
    "plt.xlabel(r\"$b / r_0$\", fontsize=14)\n",
    "plt.xscale(\"log\")\n",
    "plt.ylabel(r\"d$N$ / d ln $(r/r_0)$\", fontsize=14)\n",
    "plt.xlim(3e-2, 2e0)\n",
    "plt.legend(fontsize=14)\n",
    "\n",
    "plt.savefig(\"img/closest_encounter_distribution.pdf\", bbox_inches=\"tight\")"
   ]
  },
  {
   "cell_type": "markdown",
   "id": "5454461c",
   "metadata": {},
   "source": [
    "For example, if we had $n_* = 10^4 / \\rm{pc}^2$ (typical for cusps at 10 kpc), then we have a median closest encounter of about $0.5 \\times 10^{-2} \\rm{pc}$"
   ]
  },
  {
   "cell_type": "markdown",
   "id": "0573a17a",
   "metadata": {},
   "source": [
    "# Distribution of shock parameters\n",
    "\n",
    "Given some value of $B_*$ what is the distribution of the effective shock parameter $B_{\\rm{eff}} = \\sqrt[1.2]{\\sum B_i^{1.2}}$ ? How does it depend on the number of shocks that are considered?"
   ]
  },
  {
   "cell_type": "code",
   "execution_count": null,
   "id": "23a29d3d",
   "metadata": {},
   "outputs": [],
   "source": [
    "%%time\n",
    "Nsamp = 100000 # reduce this e.g. to 10000 if you don't want to wait very long or you have low memory available\n",
    "Bmin = 1e-2\n",
    "Bstar = 1.\n",
    "B = em.sample_encounters_B(Nsamp, Bmin, Bstar=Bstar)\n",
    "\n",
    "Beff1 = em.sample_effective_B(Nsamp, Bstar=1., Bmin=1e-1, p=1.2)\n",
    "Beff2 = em.sample_effective_B(Nsamp, Bstar=1., Bmin=1e-2, p=1.2)\n",
    "Beff3 = em.sample_effective_B(Nsamp, Bstar=1., Bmin=1e-3, p=1.2)\n",
    "Beff4 = em.sample_effective_B(Nsamp, Bstar=1., Bmin=1e-4, p=1.2)\n",
    "\n",
    "print(np.median(Beff4))"
   ]
  },
  {
   "cell_type": "code",
   "execution_count": null,
   "id": "302be34f",
   "metadata": {},
   "outputs": [],
   "source": [
    "%%time\n",
    "# This is an accelerator function, that samples from a first calculated histogram which is also be cached\n",
    "# Later on we use this to accelerate computations\n",
    "# On first execution ~ 3 minutes, but later ~50ms\n",
    "Beff4_quick= em.sample_effective_B_hist(100000, Bminfac=1e-4, p=1.2, initial_sample=100000, cachefile=\"%s/Beff_hist.hdf5\" % cachedir)"
   ]
  },
  {
   "cell_type": "code",
   "execution_count": null,
   "id": "2138ee38",
   "metadata": {},
   "outputs": [],
   "source": [
    "bins = np.logspace(-1.5,3.5,100)\n",
    "dbin = np.log(bins[1:]) - np.log(bins[:-1])\n",
    "Bcent = np.sqrt(bins[1:]*bins[:-1])\n",
    "\n",
    "ni,_ = np.histogram(B[:,0], bins=bins)\n",
    "plt.plot(Bcent, ni/dbin/Nsamp, label=\"1st strongest\", lw=2)\n",
    "\n",
    "ni,_ = np.histogram(B[:,1], bins=bins)\n",
    "plt.plot(Bcent, ni/dbin/Nsamp, label=\"2nd strongest\", lw=2)\n",
    "\n",
    "ni,_ = np.histogram(B[:,2], bins=bins)\n",
    "plt.plot(Bcent, ni/dbin/Nsamp, label=\"3rd strongest\", lw=2)\n",
    "\n",
    "ni,_ = np.histogram(Beff1, bins=bins)\n",
    "plt.plot(Bcent, ni/dbin/Nsamp, label=r\"$B_{\\rm{eff}}$ [$B > 10^{-1} B_*$]\", lw=2,  ls=\"dashed\") #color=plt.get_cmap(\"viridis\")(0.),\n",
    "\n",
    "ni,_ = np.histogram(Beff2, bins=bins)\n",
    "plt.plot(Bcent, ni/dbin/Nsamp, label=r\"$B_{\\rm{eff}}$ [$B > 10^{-2} B_*$]\", lw=2,  ls=\"dashed\") #color=plt.get_cmap(\"viridis\")(0.3),\n",
    "\n",
    "ni,_ = np.histogram(Beff3, bins=bins)\n",
    "plt.plot(Bcent, ni/dbin/Nsamp, label=r\"$B_{\\rm{eff}}$ [$B > 10^{-3} B_*$]\", lw=2, ls=\"dashed\")\n",
    "\n",
    "ni,_ = np.histogram(Beff4, bins=bins)\n",
    "plt.plot(Bcent, ni/dbin/Nsamp, label=r\"$B_{\\rm{eff}}$ [$B > 10^{-4} B_*$]\", lw=2, ls=\"dashed\")\n",
    "\n",
    "plt.xscale(\"log\")\n",
    "\n",
    "def fana(B, Bstar):\n",
    "    return Bstar/B**2 * np.exp(-Bstar/B)\n",
    "    \n",
    "plt.xlabel(r\"$B / B_*$\", fontsize=12)\n",
    "plt.ylabel(r\"dN / d log B\", fontsize=12)\n",
    "plt.grid(\"grid\")\n",
    "plt.legend(fontsize=12)\n",
    "\n",
    "plt.xlim(5e-2,4e3)\n",
    "\n",
    "plt.savefig(\"img/shock_distribution.pdf\", bbox_inches=\"tight\")\n",
    "\n",
    "# Two small checks that we don't put in the publication figure\n",
    "plt.plot(Bcent, fana(Bcent, Bstar)*Bcent, color=\"black\", ls=\"dotted\", label=\"analytic distribution\", lw=2)\n",
    "ni,_ = np.histogram(Beff4_quick, bins=bins)\n",
    "plt.plot(Bcent, ni/dbin/Nsamp, label=r\"quick [$B > 10^{-4} B_*$]\", lw=2, ls=\"dashed\", color=\"black\")"
   ]
  },
  {
   "cell_type": "markdown",
   "id": "96161cb9",
   "metadata": {},
   "source": [
    "# Encounters in the Milky Way"
   ]
  },
  {
   "cell_type": "code",
   "execution_count": null,
   "id": "aa2afa45",
   "metadata": {},
   "outputs": [],
   "source": [
    "#mw = cusp_encounters.milkyway.MilkyWay(adiabatic_contraction=True, cachedir=cachedir, mode=\"cautun_2020\")\n",
    "#orbits_full = mw.create_dm_orbits(100000, nsteps=100000, rmax=500e3, addinfo=True, adaptive=True, subsamp=100)\n",
    "\n",
    "mw = cusp_encounters.milkyway.MilkyWay(adiabatic_contraction=True, cachedir=cachedir, mode=\"cautun_2020\")\n",
    "import create_orbits_mpi\n",
    "orbits = create_orbits_mpi.orbits"
   ]
  },
  {
   "cell_type": "code",
   "execution_count": null,
   "id": "19e21aaa",
   "metadata": {},
   "outputs": [],
   "source": [
    "# Sample down a bit more to keep things quick\n",
    "#subsamp = 100\n",
    "#orbits = {} \n",
    "#for key in \"chi_star\", \"pos\", \"chi_dm\":\n",
    "#    orbits[key] = orbits_full[key][::subsamp]\n",
    "#orbits[\"mass\"] = orbits_full[\"mass\"]"
   ]
  },
  {
   "cell_type": "code",
   "execution_count": null,
   "id": "6ad95af1",
   "metadata": {},
   "outputs": [],
   "source": [
    "subsamp = 1\n",
    "\n",
    "r = np.linalg.norm(orbits[\"pos\"][::subsamp], axis=-1)\n",
    "chi = orbits[\"chi_star\"][-1] * np.ones_like(orbits[\"chi_star\"][::subsamp])\n",
    "chi = np.clip(chi, 1e-8, None)\n",
    "chitot = (orbits[\"chi_star\"][-1] + 0.04*orbits[\"chi_dm\"][-1]) * np.ones_like(orbits[\"chi_star\"][::subsamp])\n",
    "mass = orbits[\"mass\"]*np.ones_like(orbits[\"chi_star\"][::subsamp])\n",
    "\n",
    "Bstrongest = em.sample_strongest_B_analytic(2.*np.pi*chi*mw.G)\n",
    "ri, perc = em.get_percentile_profile(r/1000., Bstrongest, weights=mass)\n",
    "\n",
    "Bstrongest_tot = em.sample_strongest_B_analytic(2.*np.pi*chitot*mw.G)\n",
    "ri, perc2 = em.get_percentile_profile(r/1000., Bstrongest_tot, weights=mass)"
   ]
  },
  {
   "cell_type": "code",
   "execution_count": null,
   "id": "45a0b6e6",
   "metadata": {},
   "outputs": [],
   "source": [
    "plt.axhline(0.3, ls=\"--\", label=r\"$B_{\\rm{cusp}}, B_{\\rm{core}}$\", color=\"red\", lw=2)\n",
    "plt.axhline(30., ls=\"--\", color=\"red\", lw=2)\n",
    "em.percentile_plot(ri, perc, ylabel=r\"Strongest Shock $B$ [km/s / pc]\", loc=\"lower left\")\n",
    "plt.ylim(1e-4, 5e4)\n",
    "\n",
    "def B_to_b(B):\n",
    "    Mstar, v = 1., 200\n",
    "    return np.sqrt(2.*Mstar*mw.G / (B * v)) * (const.parsec/const.au)\n",
    "def b_to_B(b):\n",
    "    Mstar, v = 1., 200\n",
    "    return 2.*Mstar*mw.G / (b**2 * v) / (const.parsec/const.au)**2\n",
    "ax_chiG = plt.gca().secondary_yaxis('right', functions=(B_to_b, b_to_B))\n",
    "ax_chiG.set_ylabel(\"closest encounter $b$ [AU]\", fontsize=14)\n",
    "\n",
    "plt.legend(loc=\"upper right\", fontsize=12)\n",
    "plt.savefig(\"img/radial_strongest_shock_and_encounter.pdf\", bbox_inches=\"tight\")"
   ]
  },
  {
   "cell_type": "markdown",
   "id": "0bda19f8",
   "metadata": {},
   "source": [
    "# Effective Shock"
   ]
  },
  {
   "cell_type": "code",
   "execution_count": null,
   "id": "0ddf8be2",
   "metadata": {},
   "outputs": [],
   "source": [
    "Beff = em.sample_effective_B_hist(chi.shape, Bminfac=1e-4, p=1.2, initial_sample=100000, cachefile=\"%s/Beff_hist.hdf5\" % cachedir) * (2.*np.pi*chi*mw.G)\n",
    "ri, perc = em.get_percentile_profile(r/1000., Beff, weights=mass)\n",
    "\n",
    "Beff2 = em.sample_effective_B_hist(chi.shape, Bminfac=1e-4, p=1.2, initial_sample=100000, cachefile=\"%s/Beff_hist.hdf5\" % cachedir) * (2.*np.pi*chitot*mw.G)\n",
    "ri, perc2 = em.get_percentile_profile(r/1000., Beff2, weights=mass)"
   ]
  },
  {
   "cell_type": "code",
   "execution_count": null,
   "id": "b902a828",
   "metadata": {},
   "outputs": [],
   "source": [
    "plt.axhline(0.224, ls=\"--\", label=r\"$B_{\\rm{cusp}}, B_{\\rm{core}}$\", color=\"red\", lw=2)\n",
    "plt.axhline(23.7, ls=\"--\", color=\"red\", lw=2)\n",
    "em.percentile_plot(ri, perc, ylabel=r\"Effective Shock $B_{\\rm{eff}}$ [km/s / pc]\", loc=\"lower left\")\n",
    "plt.ylim(1e-4, 5e4)\n",
    "\n",
    "plt.legend(loc=\"upper right\", fontsize=12)\n",
    "plt.savefig(\"img/radial_effective_shock.pdf\", bbox_inches=\"tight\")"
   ]
  },
  {
   "cell_type": "code",
   "execution_count": null,
   "id": "d9f1c8d4",
   "metadata": {},
   "outputs": [],
   "source": []
  }
 ],
 "metadata": {
  "kernelspec": {
   "display_name": "Python [conda env:jupyter] *",
   "language": "python",
   "name": "conda-env-jupyter-py"
  },
  "language_info": {
   "codemirror_mode": {
    "name": "ipython",
    "version": 3
   },
   "file_extension": ".py",
   "mimetype": "text/x-python",
   "name": "python",
   "nbconvert_exporter": "python",
   "pygments_lexer": "ipython3",
   "version": "3.8.5"
  }
 },
 "nbformat": 4,
 "nbformat_minor": 5
}
